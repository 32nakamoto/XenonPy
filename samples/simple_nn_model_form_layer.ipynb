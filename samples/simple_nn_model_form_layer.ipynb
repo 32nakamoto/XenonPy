{
 "cells": [
  {
   "cell_type": "markdown",
   "metadata": {},
   "source": [
    "## Basically to show how to use Layer class\n",
    "\n",
    "First, prepare some data"
   ]
  },
  {
   "cell_type": "code",
   "execution_count": 1,
   "metadata": {},
   "outputs": [
    {
     "data": {
      "text/plain": [
       "<matplotlib.collections.PathCollection at 0x111597860>"
      ]
     },
     "execution_count": 1,
     "metadata": {},
     "output_type": "execute_result"
    },
    {
     "data": {
      "image/png": "[encoded data removed]",
      "text/plain": [
       "<matplotlib.figure.Figure at 0x107971cf8>"
      ]
     },
     "metadata": {},
     "output_type": "display_data"
    }
   ],
   "source": [
    "%matplotlib inline\n",
    "import torch\n",
    "from torch.autograd import Variable\n",
    "import matplotlib.pyplot as plt\n",
    "\n",
    "torch.manual_seed(1)    # reproducible\n",
    "\n",
    "x = torch.unsqueeze(\n",
    "    torch.linspace(-1, 1, 100), dim=1)  # x data (tensor), shape=(100, 1)\n",
    "y = x.pow(2) + 0.2 * torch.rand(\n",
    "    x.size())  # noisy y data (tensor), shape=(100, 1)\n",
    "\n",
    "# torch can only train on Variable, so convert them to Variable\n",
    "x, y = Variable(x), Variable(y)\n",
    "\n",
    "plt.scatter(x.data.numpy(), y.data.numpy())"
   ]
  },
  {
   "cell_type": "markdown",
   "metadata": {},
   "source": [
    "## Build a 2 layer nn model from Layer class"
   ]
  },
  {
   "cell_type": "code",
   "execution_count": 2,
   "metadata": {},
   "outputs": [
    {
     "data": {
      "text/plain": [
       "Sequential(\n",
       "  (0): Layer1d(\n",
       "    (layer): Linear(in_features=1, out_features=10, bias=True)\n",
       "    (batch_nor): BatchNorm1d(10, eps=1e-05, momentum=0.1, affine=True)\n",
       "    (act_func): ReLU()\n",
       "  )\n",
       "  (1): Layer1d(\n",
       "    (layer): Linear(in_features=10, out_features=1, bias=True)\n",
       "  )\n",
       ")"
      ]
     },
     "execution_count": 2,
     "metadata": {},
     "output_type": "execute_result"
    }
   ],
   "source": [
    "from xenonpy.model.nn import Layer1d, Sequential\n",
    "\n",
    "def Net(n_feature, n_hidden, n_output):\n",
    "    return Sequential(\n",
    "        Layer1d(n_in=n_feature, n_out=n_hidden),  # hidden layer\n",
    "        Layer1d(n_in=n_hidden, n_out=n_output, act_func=None, batch_nor=None),  # output layer\n",
    "    )\n",
    "\n",
    "\n",
    "net = Net(n_feature=1, n_hidden=10, n_output=1)  # define the network\n",
    "net"
   ]
  },
  {
   "cell_type": "markdown",
   "metadata": {},
   "source": [
    "## Train"
   ]
  },
  {
   "cell_type": "code",
   "execution_count": 3,
   "metadata": {},
   "outputs": [
    {
     "name": "stdout",
     "output_type": "stream",
     "text": [
      "epochs: 0, loss: 0.3901776075363159\n",
      "epochs: 5, loss: 0.024115275591611862\n",
      "epochs: 10, loss: 0.010036681778728962\n",
      "epochs: 15, loss: 0.008018258027732372\n",
      "epochs: 20, loss: 0.0073646605014801025\n",
      "epochs: 25, loss: 0.007082449272274971\n",
      "epochs: 30, loss: 0.006893860176205635\n",
      "epochs: 35, loss: 0.006721677258610725\n",
      "epochs: 40, loss: 0.0065605188719928265\n",
      "epochs: 45, loss: 0.0064176470041275024\n",
      "epochs: 50, loss: 0.006277827080339193\n",
      "epochs: 55, loss: 0.006145135965198278\n",
      "epochs: 60, loss: 0.006015152204781771\n",
      "epochs: 65, loss: 0.005888510495424271\n",
      "epochs: 70, loss: 0.005739185959100723\n",
      "epochs: 75, loss: 0.005611212458461523\n",
      "epochs: 80, loss: 0.005501782987266779\n",
      "epochs: 85, loss: 0.005401170812547207\n",
      "epochs: 90, loss: 0.005305890925228596\n",
      "epochs: 95, loss: 0.005206599831581116\n",
      "epochs: 100, loss: 0.005092944018542767\n",
      "epochs: 105, loss: 0.004988218657672405\n",
      "epochs: 110, loss: 0.004892553202807903\n",
      "epochs: 115, loss: 0.0048057385720312595\n",
      "epochs: 120, loss: 0.004724815953522921\n",
      "epochs: 125, loss: 0.0046538496389985085\n",
      "epochs: 130, loss: 0.004585744813084602\n",
      "epochs: 135, loss: 0.00451882416382432\n",
      "epochs: 140, loss: 0.004455618094652891\n",
      "epochs: 145, loss: 0.004396834410727024\n",
      "epochs: 150, loss: 0.00433732196688652\n",
      "epochs: 155, loss: 0.004281079862266779\n",
      "epochs: 160, loss: 0.004229908809065819\n",
      "epochs: 165, loss: 0.004182187374681234\n",
      "epochs: 170, loss: 0.004123940598219633\n",
      "epochs: 175, loss: 0.0040600718930363655\n",
      "epochs: 180, loss: 0.004001612775027752\n",
      "epochs: 185, loss: 0.0039483290165662766\n",
      "epochs: 190, loss: 0.003903147066012025\n",
      "epochs: 195, loss: 0.0038636671379208565\n"
     ]
    },
    {
     "data": {
      "text/plain": [
       "Text(0.5,0,'Loss=0.0038')"
      ]
     },
     "execution_count": 3,
     "metadata": {},
     "output_type": "execute_result"
    },
    {
     "data": {
      "image/png": "[encoded data removed]",
      "text/plain": [
       "<matplotlib.figure.Figure at 0x1059d28d0>"
      ]
     },
     "metadata": {},
     "output_type": "display_data"
    }
   ],
   "source": [
    "optimizer = torch.optim.SGD(net.parameters(), lr=0.5)\n",
    "loss_func = torch.nn.MSELoss()  # this is for regression mean squared loss\n",
    "\n",
    "\n",
    "for t in range(200):\n",
    "    prediction = net(x)  # input x and predict based on x\n",
    "\n",
    "    loss = loss_func(prediction, y)  # must be (1. nn output, 2. target)\n",
    "\n",
    "    optimizer.zero_grad()  # clear gradients for next train\n",
    "    loss.backward()  # backpropagation, compute gradients\n",
    "    optimizer.step()  # apply gradients\n",
    "\n",
    "    if t % 5 == 0:\n",
    "        # show learning process\n",
    "        print('epochs: {}, loss: {}'.format(t, loss.data[0]))\n",
    "        \n",
    "# show o-p    \n",
    "plt.cla()\n",
    "plt.scatter(x.data.numpy(), y.data.numpy())\n",
    "plt.plot(x.data.numpy(), prediction.data.numpy().flatten(), 'r-', lw=5)\n",
    "plt.text(\n",
    "    0.5,\n",
    "    0,\n",
    "    'Loss=%.4f' % loss.data[0],\n",
    "    fontdict={\n",
    "        'size': 20,\n",
    "        'color': 'red'\n",
    "    })\n"
   ]
  }
 ],
 "metadata": {
  "kernelspec": {
   "display_name": "Python 3",
   "language": "python",
   "name": "python3"
  },
  "language_info": {
   "codemirror_mode": {
    "name": "ipython",
    "version": 3
   },
   "file_extension": ".py",
   "mimetype": "text/x-python",
   "name": "python",
   "nbconvert_exporter": "python",
   "pygments_lexer": "ipython3",
   "version": "3.5.4"
  }
 },
 "nbformat": 4,
 "nbformat_minor": 2
}
