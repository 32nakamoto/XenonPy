{
 "cells": [
  {
   "cell_type": "code",
   "execution_count": 4,
   "metadata": {},
   "outputs": [
    {
     "data": {
      "text/plain": [
       "<matplotlib.collections.PathCollection at 0x7f1c04ce3c50>"
      ]
     },
     "execution_count": 4,
     "metadata": {},
     "output_type": "execute_result"
    },
    {
     "data": {
      "image/png": "[encoded data removed]",
      "text/plain": [
       "<Figure size 432x288 with 1 Axes>"
      ]
     },
     "metadata": {
      "needs_background": "light"
     },
     "output_type": "display_data"
    }
   ],
   "source": [
    "import torch\n",
    "from torch.autograd import Variable\n",
    "import matplotlib.pyplot as plt\n",
    "\n",
    "torch.manual_seed(1)    # reproducible\n",
    "\n",
    "x = torch.unsqueeze(\n",
    "    torch.linspace(-1, 1, 100), dim=1)  # x data (tensor), shape=(100, 1)\n",
    "y = x.pow(2) + 0.2 * torch.rand(\n",
    "    x.size())  # noisy y data (tensor), shape=(100, 1)\n",
    "\n",
    "plt.scatter(x.data.numpy(), y.data.numpy())"
   ]
  },
  {
   "cell_type": "code",
   "execution_count": 5,
   "metadata": {},
   "outputs": [
    {
     "data": {
      "text/plain": [
       "Sequential(\n",
       "  (0): Layer1d(\n",
       "    (layer): Linear(in_features=1, out_features=10, bias=True)\n",
       "    (batch_nor): BatchNorm1d(10, eps=1e-05, momentum=0.1, affine=True, track_running_stats=True)\n",
       "    (act_func): ReLU()\n",
       "  )\n",
       "  (1): Layer1d(\n",
       "    (layer): Linear(in_features=10, out_features=1, bias=True)\n",
       "  )\n",
       ")"
      ]
     },
     "execution_count": 5,
     "metadata": {},
     "output_type": "execute_result"
    }
   ],
   "source": [
    "from xenonpy.model.nn import Layer1d, Sequential\n",
    "\n",
    "def Net(n_feature, n_hidden, n_output):\n",
    "    return Sequential(\n",
    "        Layer1d(n_in=n_feature, n_out=n_hidden),  # hidden layer\n",
    "        Layer1d(n_in=n_hidden, n_out=n_output, act_func=None, batch_nor=None),  # output layer\n",
    "    )\n",
    "\n",
    "\n",
    "net = Net(n_feature=1, n_hidden=10, n_output=1)  # define the network\n",
    "net"
   ]
  },
  {
   "cell_type": "code",
   "execution_count": 6,
   "metadata": {},
   "outputs": [
    {
     "name": "stdout",
     "output_type": "stream",
     "text": [
      "epochs: 0, loss: 0.3901776373386383\n",
      "epochs: 5, loss: 0.024115275591611862\n",
      "epochs: 10, loss: 0.010036683641374111\n",
      "epochs: 15, loss: 0.008018256165087223\n",
      "epochs: 20, loss: 0.007364660035818815\n",
      "epochs: 25, loss: 0.007082449272274971\n",
      "epochs: 30, loss: 0.00689386110752821\n",
      "epochs: 35, loss: 0.006721676327288151\n",
      "epochs: 40, loss: 0.006560519337654114\n",
      "epochs: 45, loss: 0.00641764746978879\n",
      "epochs: 50, loss: 0.006277829874306917\n",
      "epochs: 55, loss: 0.006145135499536991\n",
      "epochs: 60, loss: 0.006015152670443058\n",
      "epochs: 65, loss: 0.005888509098440409\n",
      "epochs: 70, loss: 0.005739185493439436\n",
      "epochs: 75, loss: 0.005611214321106672\n",
      "epochs: 80, loss: 0.005501782055944204\n",
      "epochs: 85, loss: 0.005401167552918196\n",
      "epochs: 90, loss: 0.005305890459567308\n",
      "epochs: 95, loss: 0.005206601228564978\n",
      "epochs: 100, loss: 0.005092944018542767\n",
      "epochs: 105, loss: 0.004988218192011118\n",
      "epochs: 110, loss: 0.004892555996775627\n",
      "epochs: 115, loss: 0.004805737175047398\n",
      "epochs: 120, loss: 0.004724815953522921\n",
      "epochs: 125, loss: 0.004653850104659796\n",
      "epochs: 130, loss: 0.004585744347423315\n",
      "epochs: 135, loss: 0.0045188250951468945\n",
      "epochs: 140, loss: 0.004455618094652891\n",
      "epochs: 145, loss: 0.004396833945065737\n",
      "epochs: 150, loss: 0.004337322432547808\n",
      "epochs: 155, loss: 0.0042810807935893536\n",
      "epochs: 160, loss: 0.0042299083434045315\n",
      "epochs: 165, loss: 0.004182187374681234\n",
      "epochs: 170, loss: 0.00412394106388092\n",
      "epochs: 175, loss: 0.00406007282435894\n",
      "epochs: 180, loss: 0.004001612775027752\n",
      "epochs: 185, loss: 0.003948328550904989\n",
      "epochs: 190, loss: 0.0039031472988426685\n",
      "epochs: 195, loss: 0.0038636683020740747\n"
     ]
    },
    {
     "data": {
      "text/plain": [
       "Text(0.5, 0, 'Loss=0.0038')"
      ]
     },
     "execution_count": 6,
     "metadata": {},
     "output_type": "execute_result"
    },
    {
     "data": {
      "image/png": "[encoded data removed]",
      "text/plain": [
       "<Figure size 432x288 with 1 Axes>"
      ]
     },
     "metadata": {
      "needs_background": "light"
     },
     "output_type": "display_data"
    }
   ],
   "source": [
    "optimizer = torch.optim.SGD(net.parameters(), lr=0.5)\n",
    "loss_func = torch.nn.MSELoss()  # this is for regression mean squared loss\n",
    "\n",
    "for t in range(200):\n",
    "    prediction = net(x)  # input x and predict based on x\n",
    "\n",
    "    loss = loss_func(prediction, y)  # must be (1. nn output, 2. target)\n",
    "\n",
    "    optimizer.zero_grad()  # clear gradients for next train\n",
    "    loss.backward()  # backpropagation, compute gradients\n",
    "    optimizer.step()  # apply gradients\n",
    "\n",
    "    if t % 5 == 0:\n",
    "        # show learning process\n",
    "        print('epochs: {}, loss: {}'.format(t, loss.item()))\n",
    "        \n",
    "# show o-p    \n",
    "plt.cla()\n",
    "plt.scatter(x.data.numpy(), y.data.numpy())\n",
    "plt.plot(x.data.numpy(), prediction.data.numpy().flatten(), 'r-', lw=5)\n",
    "plt.text(\n",
    "    0.5,\n",
    "    0,\n",
    "    'Loss=%.4f' % loss.item(),\n",
    "    fontdict={\n",
    "        'size': 20,\n",
    "        'color': 'red'\n",
    "    })"
   ]
  }
 ],
 "metadata": {
  "kernelspec": {
   "display_name": "Python 3",
   "language": "python",
   "name": "python3"
  },
  "language_info": {
   "codemirror_mode": {
    "name": "ipython",
    "version": 3
   },
   "file_extension": ".py",
   "mimetype": "text/x-python",
   "name": "python",
   "nbconvert_exporter": "python",
   "pygments_lexer": "ipython3",
   "version": "3.6.7"
  }
 },
 "nbformat": 4,
 "nbformat_minor": 2
}
