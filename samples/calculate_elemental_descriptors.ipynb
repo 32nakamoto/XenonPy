{
 "cells": [
  {
   "cell_type": "markdown",
   "metadata": {},
   "source": [
    "## Calculate elemental descriptors and draw heatmap\n",
    "\n",
    "This sample show how to load date from XenonPy's preset dataset then calculate elemental descriptors by use `ElementDesc`.\n",
    "\n",
    "### load compound's properties fetched from Materials Project database"
   ]
  },
  {
   "cell_type": "code",
   "execution_count": 6,
   "metadata": {},
   "outputs": [
    {
     "name": "stdout",
     "output_type": "stream",
     "text": [
      "<class 'pandas.core.frame.DataFrame'>\nIndex: 69640 entries, mp-10006 to mp-999484\nData columns (total 18 columns):\nband_gap                     69640 non-null float64\ncomposition                  69640 non-null object\ndensity                      69640 non-null float64\ne_above_hull                 69640 non-null float64\nefermi                       69640 non-null float64\nelements                     69640 non-null object\nfinal_energy_per_atom        69640 non-null float64\nformation_energy_per_atom    69640 non-null float64\nhas_bandstructure            69640 non-null bool\nn_elemets                    69640 non-null int64\nnsites                       69640 non-null int64\noxide_type                   69640 non-null object\npoint_group                  69640 non-null object\npretty_formula               69640 non-null object\nspace_group                  69640 non-null object\nspace_group_number           69640 non-null int64\ntotal_magnetization          69640 non-null float64\nvolume                       69640 non-null float64\ndtypes: bool(1), float64(8), int64(3), object(6)\nmemory usage: 9.6+ MB\n"
     ]
    }
   ],
   "source": [
    "from xenonpy.preprocess.datatools import Loader\n",
    "\n",
    "props = Loader().mp_inorganic\n",
    "props.info()"
   ]
  },
  {
   "cell_type": "markdown",
   "metadata": {},
   "source": [
    "### calculate descriptors from composition"
   ]
  },
  {
   "cell_type": "code",
   "execution_count": 7,
   "metadata": {},
   "outputs": [
    {
     "name": "stdout",
     "output_type": "stream",
     "text": [
      "converting 69640 compounds\n"
     ]
    },
    {
     "name": "stdout",
     "output_type": "stream",
     "text": [
      "<class 'pandas.core.frame.DataFrame'>\nIndex: 69640 entries, mp-10006 to mp-999484\nColumns: 290 entries, ave:atomic_number to min:Polarizability\ndtypes: float64(290)\nmemory usage: 154.6+ MB\n"
     ]
    }
   ],
   "source": [
    "from xenonpy.descriptor import ElementDesc\n",
    "\n",
    "desc = ElementDesc().fit_transform(props)\n",
    "desc.info()"
   ]
  },
  {
   "cell_type": "markdown",
   "metadata": {},
   "source": [
    "### select stable structure"
   ]
  },
  {
   "cell_type": "code",
   "execution_count": 2,
   "metadata": {},
   "outputs": [
    {
     "name": "stdout",
     "output_type": "stream",
     "text": [
      "<class 'pandas.core.frame.DataFrame'>\nIndex: 23776 entries, mp-1006278 to mp-999137\nData columns (total 18 columns):\nband_gap                     23776 non-null float64\ncomposition                  23776 non-null object\ndensity                      23776 non-null float64\ne_above_hull                 23776 non-null float64\nefermi                       23776 non-null float64\nelements                     23776 non-null object\nfinal_energy_per_atom        23776 non-null float64\nformation_energy_per_atom    23776 non-null float64\nhas_bandstructure            23776 non-null bool\nn_elemets                    23776 non-null int64\nnsites                       23776 non-null int64\noxide_type                   23776 non-null object\npoint_group                  23776 non-null object\npretty_formula               23776 non-null object\nspace_group                  23776 non-null object\nspace_group_number           23776 non-null int64\ntotal_magnetization          23776 non-null float64\nvolume                       23776 non-null float64\ndtypes: bool(1), float64(8), int64(3), object(6)\nmemory usage: 3.3+ MB\n"
     ]
    }
   ],
   "source": [
    "props = props[props.e_above_hull == 0]\n",
    "props.info()"
   ]
  },
  {
   "cell_type": "markdown",
   "metadata": {},
   "source": [
    "### draw elemental descriptors heatmap\n",
    "\n",
    "As a example, we resort descriptors with property `density`"
   ]
  },
  {
   "cell_type": "code",
   "execution_count": 9,
   "metadata": {},
   "outputs": [],
   "source": [
    "%matplotlib inline\n",
    "\n",
    "from xenonpy.visualization import DescHeatmap\n",
    "\n",
    "dens = props[props['density'] != 0]\n",
    "dens = dens.sort_values(by='density', ascending=False)\n",
    "desc_dens = desc.loc[dens.index, :]\n",
    "dens = dens['density']\n",
    "\n",
    "# draw heatmap\n",
    "dh_map = DescHeatmap(\n",
    "    #     save=dict(fname='density_desc.png', dpi=150, bbox_inches='tight', transparent=False),\n",
    "    method='complete',\n",
    "    bc=True,  # box-cox transfer\n",
    "    figsize=(70, 10))\n",
    "\n",
    "dh_map.fit(desc_dens)\n",
    "dh_map.draw(dens)"
   ]
  },
  {
   "cell_type": "code",
   "execution_count": null,
   "metadata": {},
   "outputs": [],
   "source": []
  }
 ],
 "metadata": {
  "kernelspec": {
   "display_name": "Python 3",
   "language": "python",
   "name": "python3"
  },
  "language_info": {
   "codemirror_mode": {
    "name": "ipython",
    "version": 3
   },
   "file_extension": ".py",
   "mimetype": "text/x-python",
   "name": "python",
   "nbconvert_exporter": "python",
   "pygments_lexer": "ipython3",
   "version": "3.5.5"
  }
 },
 "nbformat": 4,
 "nbformat_minor": 2
}
