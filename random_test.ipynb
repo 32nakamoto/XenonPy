{
 "cells": [
  {
   "cell_type": "code",
   "execution_count": 18,
   "metadata": {},
   "outputs": [
    {
     "name": "stdout",
     "output_type": "stream",
     "text": [
      "Sequential(\n",
      "  (0): Layer1d(\n",
      "    (neuron): Linear(in_features=290, out_features=100)\n",
      "    (batch_nor): BatchNorm1d(100, eps=0.5, momentum=0.1, affine=True)\n",
      "    (act_func): ReLU()\n",
      "    (dropout): Dropout(p=0.3)\n",
      "  )\n",
      "  (1): Layer1d(\n",
      "    (neuron): Linear(in_features=100, out_features=50)\n",
      "    (batch_nor): BatchNorm1d(50, eps=0.30000000000000004, momentum=0.1, affine=True)\n",
      "    (act_func): ReLU()\n",
      "    (dropout): Dropout(p=0.06)\n",
      "  )\n",
      "  (2): Layer1d(\n",
      "    (neuron): Linear(in_features=50, out_features=50)\n",
      "    (batch_nor): BatchNorm1d(50, eps=0.30000000000000004, momentum=0.1, affine=True)\n",
      "    (act_func): ReLU()\n",
      "    (dropout): Dropout(p=0.21999999999999995)\n",
      "  )\n",
      "  (3): Layer1d(\n",
      "    (neuron): Linear(in_features=50, out_features=100)\n",
      "    (batch_nor): BatchNorm1d(100, eps=0.4, momentum=0.1, affine=True)\n",
      "    (act_func): ReLU()\n",
      "    (dropout): Dropout(p=0.41999999999999993)\n",
      "  )\n",
      "  (4): Layer1d(\n",
      "    (neuron): Linear(in_features=100, out_features=100)\n",
      "    (batch_nor): BatchNorm1d(100, eps=0.2, momentum=0.1, affine=True)\n",
      "    (act_func): ReLU()\n",
      "    (dropout): Dropout(p=0.3)\n",
      "  )\n",
      "  (5): Layer1d(\n",
      "    (neuron): Linear(in_features=100, out_features=1)\n",
      "  )\n",
      ")\n"
     ]
    }
   ],
   "source": [
    "from xenonpy.model.nn import NNGenerator1d\n",
    "import numpy as np\n",
    "\n",
    "g = NNGenerator1d(290, 1, n_neuron=[100, 50, 30], p_drop=np.arange(0.02, 0.5, 0.04),\n",
    "                          batch_normalize=[True], momentum=np.arange(0.1, 0.6, 0.1))\n",
    "m = g(hidden=5)\n",
    "print(m)"
   ]
  },
  {
   "cell_type": "code",
   "execution_count": null,
   "metadata": {},
   "outputs": [],
   "source": []
  },
  {
   "cell_type": "code",
   "execution_count": null,
   "metadata": {},
   "outputs": [],
   "source": []
  }
 ],
 "metadata": {
  "kernelspec": {
   "display_name": "Python 3",
   "language": "python",
   "name": "python3"
  },
  "language_info": {
   "codemirror_mode": {
    "name": "ipython",
    "version": 3
   },
   "file_extension": ".py",
   "mimetype": "text/x-python",
   "name": "python",
   "nbconvert_exporter": "python",
   "pygments_lexer": "ipython3",
   "version": "3.5.4"
  }
 },
 "nbformat": 4,
 "nbformat_minor": 2
}
